{
 "cells": [
  {
   "cell_type": "code",
   "execution_count": null,
   "metadata": {},
   "outputs": [],
   "source": [
    "In this project, you’re going to take a peek into the realm of neural network machine\n",
    "translation. You’ll be training a sequence to sequence model on a dataset of English and French\n",
    "sentences that can translate new sentences from English to French."
   ]
  },
  {
   "cell_type": "code",
   "execution_count": null,
   "metadata": {},
   "outputs": [],
   "source": [
    "def load_data(path):\n",
    "    \"\"\"load data from file\n",
    "    \"\"\"\n",
    "    input_file = os.path.join(path)\n",
    "    with open(input_file,'r',encoding = 'utf-8') as f:\n",
    "             data = f.read()"
   ]
  },
  {
   "cell_type": "code",
   "execution_count": null,
   "metadata": {},
   "outputs": [],
   "source": [
    "# split a loaded document into sentences\n",
    "def to_pairs(doc):\n",
    "lines = doc.strip().split('\\n')\n",
    "pairs = [line.split('\\t') for line in  lines]\n",
    "return pairs"
   ]
  },
  {
   "cell_type": "code",
   "execution_count": null,
   "metadata": {},
   "outputs": [],
   "source": [
    "# clean a list of lines\n",
    "def clean_pairs(lines):\n",
    "cleaned = list()\n",
    "# prepare regex for char filtering\n",
    "re_print = re.compile('[^%s]' % re.escape(string.printable))\n",
    "# prepare translation table for removing punctuation\n",
    "table = str.maketrans('', '', string.punctuation)\n",
    "for pair in lines:\n",
    "clean_pair = list()\n",
    "for line in pair:\n",
    "# normalize unicode characters\n",
    "line = normalize('NFD', line).encode('ascii', 'ignore')\n",
    "line = line.decode('UTF-8')\n",
    "# tokenize on white space\n",
    "line = line.split()\n",
    "# convert to lowercase\n",
    "line = [word.lower() for word in line]\n",
    "# remove punctuation from each token\n",
    "line = [word.translate(table) for word in line]\n",
    "# remove non-printable chars form each token\n",
    "line = [re_print.sub('', w) for w in line]\n",
    "# remove tokens with numbers in them\n",
    "line = [word for word in line if word.isalpha()]\n",
    "# store as string\n",
    "clean_pair.append(' '.join(line))\n",
    "cleaned.append(clean_pair)\n",
    "return array(cleaned)"
   ]
  },
  {
   "cell_type": "code",
   "execution_count": null,
   "metadata": {},
   "outputs": [],
   "source": [
    "import string\n",
    "import re\n",
    "from pickle import dump\n",
    "from unicodedata import normalize\n",
    "from numpy import array\n",
    " \n",
    "# load doc into memory\n",
    "def load_doc(filename):\n",
    "# open the file as read only\n",
    "file = open(filename, mode='rt', encoding='utf-8')\n",
    "# read all text\n",
    "text = file.read()\n",
    "# close the file\n",
    "file.close()\n",
    "return text\n",
    " \n",
    "# split a loaded document into sentences\n",
    "def to_pairs(doc):\n",
    "lines = doc.strip().split('\\n')\n",
    "pairs = [line.split('\\t') for line in  lines]\n",
    "return pairs\n",
    " \n",
    "# clean a list of lines\n",
    "def clean_pairs(lines):\n",
    "cleaned = list()\n",
    "# prepare regex for char filtering\n",
    "re_print = re.compile('[^%s]' % re.escape(string.printable))\n",
    "# prepare translation table for removing punctuation\n",
    "table = str.maketrans('', '', string.punctuation)\n",
    "for pair in lines:\n",
    "clean_pair = list()\n",
    "for line in pair:\n",
    "# normalize unicode characters\n",
    "line = normalize('NFD', line).encode('ascii', 'ignore')\n",
    "line = line.decode('UTF-8')\n",
    "# tokenize on white space\n",
    "line = line.split()\n",
    "# convert to lowercase\n",
    "line = [word.lower() for word in line]\n",
    "# remove punctuation from each token\n",
    "line = [word.translate(table) for word in line]\n",
    "# remove non-printable chars form each token\n",
    "line = [re_print.sub('', w) for w in line]\n",
    "# remove tokens with numbers in them\n",
    "line = [word for word in line if word.isalpha()]\n",
    "# store as string\n",
    "clean_pair.append(' '.join(line))\n",
    "cleaned.append(clean_pair)\n",
    "return array(cleaned)\n",
    " \n",
    "# save a list of clean sentences to file\n",
    "def save_clean_data(sentences, filename):\n",
    "dump(sentences, open(filename, 'wb'))\n",
    "print('Saved: %s' % filename)\n",
    " \n",
    "# load dataset\n",
    "filename = 'deu.txt'\n",
    "doc = load_doc(filename)\n",
    "# split into english-french pairs\n",
    "pairs = to_pairs(doc)\n",
    "# clean sentences\n",
    "clean_pairs = clean_pairs(pairs)\n",
    "# save clean pairs to file\n",
    "save_clean_data(clean_pairs, 'english-french.pkl')\n",
    "# spot check\n",
    "for i in range(100):\n",
    "print('[%s] => [%s]' % (clean_pairs[i,0], clean_pairs[i,1]))"
   ]
  },
  {
   "cell_type": "code",
   "execution_count": null,
   "metadata": {},
   "outputs": [],
   "source": [
    "from pickle import load\n",
    "from pickle import dump\n",
    "from numpy.random import rand\n",
    "from numpy.random import shuffle\n",
    " \n",
    "# load a clean dataset\n",
    "def load_clean_sentences(filename):\n",
    "return load(open(filename, 'rb'))\n",
    " \n",
    "# save a list of clean sentences to file\n",
    "def save_clean_data(sentences, filename):\n",
    "dump(sentences, open(filename, 'wb'))\n",
    "print('Saved: %s' % filename)\n",
    " \n",
    "# load dataset\n",
    "raw_dataset = load_clean_sentences('english-french.pkl')\n",
    " \n",
    "# reduce dataset size\n",
    "n_sentences = 10000\n",
    "dataset = raw_dataset[:n_sentences, :]\n",
    "# random shuffle\n",
    "shuffle(dataset)\n",
    "# split into train/test\n",
    "train, test = dataset[:9000], dataset[9000:]\n",
    "# save\n",
    "save_clean_data(dataset, 'english-french-both.pkl')\n",
    "save_clean_data(train, 'english-french-train.pkl')\n",
    "save_clean_data(test, 'english-french-test.pkl')"
   ]
  },
  {
   "cell_type": "code",
   "execution_count": null,
   "metadata": {},
   "outputs": [],
   "source": [
    "# load a clean dataset\n",
    "def load_clean_sentences(filename):\n",
    "return load(open(filename, 'rb'))\n",
    " \n",
    "# load datasets\n",
    "dataset = load_clean_sentences('english-french-both.pkl')\n",
    "train = load_clean_sentences('english-french-train.pkl')\n",
    "test = load_clean_sentences('english-french-test.pkl')"
   ]
  },
  {
   "cell_type": "code",
   "execution_count": null,
   "metadata": {},
   "outputs": [],
   "source": [
    "# fit a tokenizer\n",
    "def create_tokenizer(lines):\n",
    "tokenizer = Tokenizer()\n",
    "tokenizer.fit_on_texts(lines)\n",
    "return tokenizer"
   ]
  },
  {
   "cell_type": "code",
   "execution_count": null,
   "metadata": {},
   "outputs": [],
   "source": [
    "# max sentence length\n",
    "def max_length(lines):\n",
    "return max(len(line.split()) for line in lines)"
   ]
  },
  {
   "cell_type": "code",
   "execution_count": null,
   "metadata": {},
   "outputs": [],
   "source": [
    "# prepare english tokenizer\n",
    "eng_tokenizer = create_tokenizer(dataset[:, 0])\n",
    "eng_vocab_size = len(eng_tokenizer.word_index) + 1\n",
    "eng_length = max_length(dataset[:, 0])\n",
    "print('English Vocabulary Size: %d' % eng_vocab_size)\n",
    "print('English Max Length: %d' % (eng_length))\n",
    "# prepare french tokenizer\n",
    "fre_tokenizer = create_tokenizer(dataset[:, 1])\n",
    "fre_vocab_size = len(ger_tokenizer.word_index) + 1\n",
    "fre_length = max_length(dataset[:, 1])\n",
    "print('French Vocabulary Size: %d' % fer_vocab_size)\n",
    "print('French Max Length: %d' % (fer_length))"
   ]
  },
  {
   "cell_type": "code",
   "execution_count": null,
   "metadata": {},
   "outputs": [],
   "source": [
    "# encode and pad sequences\n",
    "def encode_sequences(tokenizer, length, lines):\n",
    "# integer encode sequences\n",
    "X = tokenizer.texts_to_sequences(lines)\n",
    "# pad sequences with 0 values\n",
    "X = pad_sequences(X, maxlen=length, padding='post')\n",
    "return X"
   ]
  },
  {
   "cell_type": "code",
   "execution_count": null,
   "metadata": {},
   "outputs": [],
   "source": [
    "# one hot encode target sequence\n",
    "def encode_output(sequences, vocab_size):\n",
    "ylist = list()\n",
    "for sequence in sequences:\n",
    "encoded = to_categorical(sequence, num_classes=vocab_size)\n",
    "ylist.append(encoded)\n",
    "y = array(ylist)\n",
    "y = y.reshape(sequences.shape[0], sequences.shape[1], vocab_size)\n",
    "return y"
   ]
  },
  {
   "cell_type": "code",
   "execution_count": null,
   "metadata": {},
   "outputs": [],
   "source": [
    "# prepare training data\n",
    "trainX = encode_sequences(fre_tokenizer, fre_length, train[:, 1])\n",
    "trainY = encode_sequences(eng_tokenizer, eng_length, train[:, 0])\n",
    "trainY = encode_output(trainY, eng_vocab_size)\n",
    "# prepare validation data\n",
    "testX = encode_sequences(fre_tokenizer, fre_length, test[:, 1])\n",
    "testY = encode_sequences(eng_tokenizer, eng_length, test[:, 0])\n",
    "testY = encode_output(testY, eng_vocab_size)"
   ]
  },
  {
   "cell_type": "code",
   "execution_count": null,
   "metadata": {},
   "outputs": [],
   "source": [
    "# define NMT (Neural Machine Translation) model\n",
    "def define_model(src_vocab, tar_vocab, src_timesteps, tar_timesteps, n_units):\n",
    "model = Sequential()\n",
    "model.add(Embedding(src_vocab, n_units, input_length=src_timesteps, mask_zero=True))\n",
    "model.add(LSTM(n_units))\n",
    "model.add(RepeatVector(tar_timesteps))\n",
    "model.add(LSTM(n_units, return_sequences=True))\n",
    "model.add(TimeDistributed(Dense(tar_vocab, activation='softmax')))\n",
    "return model\n",
    " \n",
    "# define model\n",
    "model = define_model(ger_vocab_size, eng_vocab_size, ger_length, eng_length, 256)\n",
    "model.compile(optimizer='adam', loss='categorical_crossentropy')\n",
    "# summarize defined model\n",
    "print(model.summary())\n",
    "plot_model(model, to_file='model.png', show_shapes=True)"
   ]
  },
  {
   "cell_type": "code",
   "execution_count": null,
   "metadata": {},
   "outputs": [],
   "source": [
    "#fit model\n",
    "filename = 'model.h5'\n",
    "checkpoint = ModelCheckpoint(filename, monitor='val_loss', verbose=1, save_best_only=True, mode='min')\n",
    "model.fit(trainX, trainY, epochs=30, batch_size=64, validation_data=(testX, testY), callbacks=[checkpoint], verbose=2)"
   ]
  },
  {
   "cell_type": "code",
   "execution_count": null,
   "metadata": {},
   "outputs": [],
   "source": [
    "END OF ASSIGNMENT"
   ]
  }
 ],
 "metadata": {
  "kernelspec": {
   "display_name": "tfTest",
   "language": "python",
   "name": "tftest"
  },
  "language_info": {
   "codemirror_mode": {
    "name": "ipython",
    "version": 3
   },
   "file_extension": ".py",
   "mimetype": "text/x-python",
   "name": "python",
   "nbconvert_exporter": "python",
   "pygments_lexer": "ipython3",
   "version": "3.6.8"
  }
 },
 "nbformat": 4,
 "nbformat_minor": 2
}
